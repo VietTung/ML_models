{
  "cells": [
    {
      "cell_type": "markdown",
      "source": [
        "# Deploy a DecisionTree model using Azure ML Python SDK "
      ],
      "metadata": {
        "nteract": {
          "transient": {
            "deleting": false
          }
        }
      }
    },
    {
      "cell_type": "markdown",
      "source": [],
      "metadata": {
        "nteract": {
          "transient": {
            "deleting": false
          }
        }
      }
    },
    {
      "cell_type": "code",
      "source": [
        "# Handle to the workspace\r\n",
        "from azure.ai.ml import MLClient\r\n",
        "\r\n",
        "# Authentication package\r\n",
        "from azure.identity import DefaultAzureCredential\r\n",
        "\r\n",
        "credential = DefaultAzureCredential()\r\n",
        "\r\n",
        "import azureml.core\r\n",
        "from azureml.core import Workspace\r\n",
        "\r\n",
        "#verify workspace details \r\n",
        "workspace = Workspace.from_config()\r\n",
        "print(  \"Workspace name: \" + workspace.name,\r\n",
        "        \"Workspace region: \" + workspace.location,\r\n",
        "        \"Subscription id: \" + workspace.subscription_id,\r\n",
        "        \"Resource group: \" + workspace.resource_group, sep=\"\\n\")"
      ],
      "outputs": [
        {
          "output_type": "stream",
          "name": "stdout",
          "text": "Workspace name: ws001\nWorkspace region: eastus\nSubscription id: eb1308d1-6004-4e62-aebb-ec8032a938d0\nResource group: ml\n"
        }
      ],
      "execution_count": 1,
      "metadata": {
        "gather": {
          "logged": 1681672477550
        }
      }
    },
    {
      "cell_type": "code",
      "source": [
        "# Get a handle to the workspace\r\n",
        "ml_client = MLClient(\r\n",
        "    credential=credential,\r\n",
        "    subscription_id=workspace.subscription_id,\r\n",
        "    resource_group_name=workspace.resource_group,\r\n",
        "    workspace_name=workspace.name,\r\n",
        ")\r\n",
        "print(ml_client)"
      ],
      "outputs": [
        {
          "output_type": "stream",
          "name": "stdout",
          "text": "MLClient(credential=<azure.identity._credentials.default.DefaultAzureCredential object at 0x7f5642a00bb0>,\n         subscription_id=eb1308d1-6004-4e62-aebb-ec8032a938d0,\n         resource_group_name=ml,\n         workspace_name=ws001)\n"
        }
      ],
      "execution_count": 2,
      "metadata": {
        "jupyter": {
          "source_hidden": false,
          "outputs_hidden": false
        },
        "nteract": {
          "transient": {
            "deleting": false
          }
        },
        "gather": {
          "logged": 1681672491600
        }
      }
    },
    {
      "cell_type": "markdown",
      "source": [],
      "metadata": {
        "nteract": {
          "transient": {
            "deleting": false
          }
        }
      }
    },
    {
      "cell_type": "markdown",
      "source": [
        "## Creating compoute cluster resource and connect it with the current workspace"
      ],
      "metadata": {
        "nteract": {
          "transient": {
            "deleting": false
          }
        }
      }
    },
    {
      "cell_type": "code",
      "source": [
        "from azure.ai.ml.entities import AmlCompute\r\n",
        "\r\n",
        "# Name assigned to the compute cluster\r\n",
        "cpu_compute_target = \"CC00\"\r\n",
        "\r\n",
        "try:\r\n",
        "    # let's see if the compute target already exists\r\n",
        "    cpu_cluster = ml_client.compute.get(cpu_compute_target)\r\n",
        "    print(\r\n",
        "        f\"Compute resource {cpu_compute_target} already existed under compute cluster tab.\"\r\n",
        "    )\r\n",
        "\r\n",
        "except Exception:\r\n",
        "    print(\"Initializing new computer cluster\")\r\n",
        "\r\n",
        "    # Let's create the Azure ML compute object with the intended parameters\r\n",
        "    cpu_cluster = AmlCompute(\r\n",
        "        name=cpu_compute_target,\r\n",
        "        type=\"amlcompute\",\r\n",
        "        size=\"STANDARD_F4S_V2\",\r\n",
        "        min_instances=0,\r\n",
        "        max_instances=2,\r\n",
        "        idle_time_before_scale_down=180,\r\n",
        "        tier=\"Dedicated\",\r\n",
        "    )\r\n",
        "    print(\r\n",
        "        f\"Compute resource with name {cpu_cluster.name} will be created, using instance {cpu_cluster.size}\"\r\n",
        "    )\r\n",
        "    \r\n",
        "    cpu_cluster = ml_client.compute.begin_create_or_update(cpu_cluster)"
      ],
      "outputs": [
        {
          "output_type": "stream",
          "name": "stdout",
          "text": "Compute resource CC00 already existed under compute cluster tab.\n"
        }
      ],
      "execution_count": 3,
      "metadata": {
        "jupyter": {
          "source_hidden": false,
          "outputs_hidden": false
        },
        "nteract": {
          "transient": {
            "deleting": false
          }
        },
        "gather": {
          "logged": 1681672495395
        }
      }
    },
    {
      "cell_type": "markdown",
      "source": [
        "## Dataset "
      ],
      "metadata": {
        "nteract": {
          "transient": {
            "deleting": false
          }
        }
      }
    },
    {
      "cell_type": "code",
      "source": [
        "from azureml.core import Dataset\r\n",
        "import pandas as pd\r\n",
        "\r\n",
        "# The default datastore is a blob storage container where datasets are stored\r\n",
        "datastore = workspace.get_default_datastore()\r\n",
        "\r\n",
        "# Load some data into a dataframe (Note: Pandas is just one path into Azure ML)\r\n",
        "df = pd.read_csv('./heart.csv')\r\n",
        "\r\n",
        "# Register the dataset\r\n",
        "ds = Dataset.Tabular.register_pandas_dataframe(\r\n",
        "        dataframe=df, \r\n",
        "        name='Heart_dataset', \r\n",
        "        description='The dataset for cardiovascular diseases prediction',\r\n",
        "        target=datastore\r\n",
        "    )\r\n"
      ],
      "outputs": [],
      "execution_count": null,
      "metadata": {
        "jupyter": {
          "source_hidden": false,
          "outputs_hidden": false
        },
        "nteract": {
          "transient": {
            "deleting": false
          }
        },
        "gather": {
          "logged": 1681672507680
        }
      }
    },
    {
      "cell_type": "markdown",
      "source": [
        "## Creating environment for Model training"
      ],
      "metadata": {
        "nteract": {
          "transient": {
            "deleting": false
          }
        }
      }
    },
    {
      "cell_type": "code",
      "source": [
        "import os\r\n",
        "\r\n",
        "dependencies_dir = \"./dependencies\"\r\n",
        "os.makedirs(dependencies_dir, exist_ok=True)"
      ],
      "outputs": [],
      "execution_count": 5,
      "metadata": {
        "jupyter": {
          "source_hidden": false,
          "outputs_hidden": false
        },
        "nteract": {
          "transient": {
            "deleting": false
          }
        },
        "gather": {
          "logged": 1681672516592
        }
      }
    },
    {
      "cell_type": "code",
      "source": [
        "%%writefile {dependencies_dir}/conda.yml\r\n",
        "name: model-env\r\n",
        "channels:\r\n",
        "  - conda-forge\r\n",
        "dependencies:\r\n",
        "  - python=3.8\r\n",
        "  - numpy=1.21.2\r\n",
        "  - pip=21.2.4\r\n",
        "  - scikit-learn=0.24.2\r\n",
        "  - scipy=1.7.1\r\n",
        "  - pandas>=1.1,<1.2\r\n",
        "  - pip:\r\n",
        "    - inference-schema[numpy-support]==1.3.0\r\n",
        "    - xlrd==2.0.1\r\n",
        "    - mlflow== 1.26.1\r\n",
        "    - azureml-mlflow==1.42.0\r\n",
        "    - psutil>=5.8,<5.9\r\n",
        "    - tqdm>=4.59,<4.60\r\n",
        "    - ipykernel~=6.0\r\n",
        "    - matplotlib"
      ],
      "outputs": [
        {
          "output_type": "stream",
          "name": "stdout",
          "text": "Overwriting ./dependencies/conda.yml\n"
        }
      ],
      "execution_count": 6,
      "metadata": {
        "jupyter": {
          "source_hidden": false,
          "outputs_hidden": false
        },
        "nteract": {
          "transient": {
            "deleting": false
          }
        }
      }
    },
    {
      "cell_type": "code",
      "source": [
        "from azure.ai.ml.entities import Environment\r\n",
        "\r\n",
        "custom_env_name = \"aml-scikit-learn\"\r\n",
        "\r\n",
        "pipeline_job_env = Environment(\r\n",
        "    name=custom_env_name,\r\n",
        "    description=\"Custom environment for Heart Defaults pipeline\",\r\n",
        "    tags={\"scikit-learn\": \"0.24.2\"},\r\n",
        "    conda_file=os.path.join(dependencies_dir, \"conda.yml\"),\r\n",
        "    image=\"mcr.microsoft.com/azureml/openmpi3.1.2-ubuntu18.04:latest\",\r\n",
        ")\r\n",
        "pipeline_job_env = ml_client.environments.create_or_update(pipeline_job_env)\r\n",
        "\r\n",
        "print(\r\n",
        "    f\"Environment with name {pipeline_job_env.name} is registered to workspace, the environment version is {pipeline_job_env.version}\"\r\n",
        ")"
      ],
      "outputs": [
        {
          "output_type": "stream",
          "name": "stdout",
          "text": "Environment with name aml-scikit-learn is registered to workspace, the environment version is 6\n"
        }
      ],
      "execution_count": 7,
      "metadata": {
        "jupyter": {
          "source_hidden": false,
          "outputs_hidden": false
        },
        "nteract": {
          "transient": {
            "deleting": false
          }
        },
        "gather": {
          "logged": 1681672523659
        }
      }
    },
    {
      "cell_type": "markdown",
      "source": [
        "## Creating Training Script"
      ],
      "metadata": {
        "nteract": {
          "transient": {
            "deleting": false
          }
        }
      }
    },
    {
      "cell_type": "code",
      "source": [
        "import os\r\n",
        "\r\n",
        "train_src_dir = \"./src\"\r\n",
        "os.makedirs(train_src_dir, exist_ok=True)"
      ],
      "outputs": [],
      "execution_count": 8,
      "metadata": {
        "jupyter": {
          "source_hidden": false,
          "outputs_hidden": false
        },
        "nteract": {
          "transient": {
            "deleting": false
          }
        },
        "gather": {
          "logged": 1681672528898
        }
      }
    },
    {
      "cell_type": "code",
      "source": [
        "%%writefile {train_src_dir}/main.py\r\n",
        "import os\r\n",
        "import argparse\r\n",
        "import pandas as pd\r\n",
        "import mlflow\r\n",
        "import mlflow.sklearn\r\n",
        "from sklearn.tree import DecisionTreeClassifier\r\n",
        "from sklearn.metrics import classification_report\r\n",
        "from sklearn.model_selection import train_test_split\r\n",
        "\r\n",
        "def main():\r\n",
        "    \"\"\"Main function of the script.\"\"\"\r\n",
        "\r\n",
        "    # input and output arguments\r\n",
        "    parser = argparse.ArgumentParser()\r\n",
        "    parser.add_argument(\"--data\", type=str, help=\"path to input data\")\r\n",
        "    parser.add_argument(\"--test_train_ratio\", type=float, required=False, default=0.25)\r\n",
        "    parser.add_argument(\"--learning_rate\", required=False, default=0.2, type=float)\r\n",
        "    parser.add_argument(\"--max_depth\", required=False, default=6, type=float)\r\n",
        "    parser.add_argument(\"--min_samples_leaf\", required=False, default=2, type=int)\r\n",
        "    parser.add_argument(\"--random_state\", required=False, default=42, type=int)\r\n",
        "    parser.add_argument(\"--max_leaf_nodes\", required=False, default=6, type=int)\r\n",
        "    parser.add_argument(\"--registered_model_name\", type=str, help=\"model name\")\r\n",
        "    args = parser.parse_args()\r\n",
        "   \r\n",
        "    # Start Logging\r\n",
        "    mlflow.start_run()\r\n",
        "\r\n",
        "    # enable autologging\r\n",
        "    mlflow.sklearn.autolog()\r\n",
        "\r\n",
        "    ###################\r\n",
        "    #<prepare the data>\r\n",
        "    ###################\r\n",
        "    print(\" \".join(f\"{k}={v}\" for k, v in vars(args).items()))\r\n",
        "\r\n",
        "    print(\"input data:\", args.data)\r\n",
        "    \r\n",
        "    # heart_df = pd.read_csv(args.data, header=1, index_col=0)\r\n",
        "    heart_df = pd.read_csv(\"heart.csv\")\r\n",
        "    print(heart_df.head())\r\n",
        "\r\n",
        "    X_train, X_test, y_train, y_test = train_test_split(\r\n",
        "    heart_df.drop(\"target\", axis=1), heart_df[\"target\"], test_size=0.3\r\n",
        "    )\r\n",
        "    ####################\r\n",
        "    #</prepare the data>\r\n",
        "    ####################\r\n",
        "\r\n",
        "    ##################\r\n",
        "    #<train the model>\r\n",
        "    ##################\r\n",
        "\r\n",
        "    dtc = DecisionTreeClassifier(\r\n",
        "        max_depth=args.max_depth,\r\n",
        "        min_samples_leaf= args.min_samples_leaf,\r\n",
        "        random_state= args.random_state,\r\n",
        "        max_leaf_nodes= args.max_leaf_nodes,\r\n",
        "        \r\n",
        "    )\r\n",
        "    dtc.fit(X_train, y_train)\r\n",
        "\r\n",
        "    y_pred = dtc.predict(X_test)\r\n",
        "\r\n",
        "    print(classification_report(y_test, y_pred))\r\n",
        "    ###################\r\n",
        "    #</train the model>\r\n",
        "    ###################\r\n",
        "\r\n",
        "    ##########################\r\n",
        "    #<save and register model>\r\n",
        "    ##########################\r\n",
        "    # Registering the model to the workspace\r\n",
        "    print(\"Registering the model via MLFlow\")\r\n",
        "    mlflow.sklearn.log_model(\r\n",
        "        sk_model=dtc,\r\n",
        "        registered_model_name=args.registered_model_name,\r\n",
        "        artifact_path=args.registered_model_name,\r\n",
        "    )\r\n",
        "\r\n",
        "    # Saving the model to a file\r\n",
        "    mlflow.sklearn.save_model(\r\n",
        "        sk_model=dtc,\r\n",
        "        path=os.path.join(args.registered_model_name, \"trained_model\"),\r\n",
        "    )\r\n",
        "    ###########################\r\n",
        "    #</save and register model>\r\n",
        "    ###########################\r\n",
        "    \r\n",
        "    # Stop Logging\r\n",
        "    mlflow.end_run()\r\n",
        "\r\n",
        "if __name__ == \"__main__\":\r\n",
        "    main()"
      ],
      "outputs": [
        {
          "output_type": "stream",
          "name": "stdout",
          "text": "Overwriting ./src/main.py\n"
        }
      ],
      "execution_count": 9,
      "metadata": {
        "jupyter": {
          "source_hidden": false,
          "outputs_hidden": false
        },
        "nteract": {
          "transient": {
            "deleting": false
          }
        }
      }
    },
    {
      "cell_type": "markdown",
      "source": [
        "# Create command and input\r\n"
      ],
      "metadata": {
        "nteract": {
          "transient": {
            "deleting": false
          }
        }
      }
    },
    {
      "cell_type": "code",
      "source": [
        "from azure.ai.ml import command\r\n",
        "from azure.ai.ml import Input\r\n",
        "\r\n",
        "registered_model_name = \"heart_defaults_model\"\r\n",
        "\r\n",
        "job = command(\r\n",
        "    inputs=dict(\r\n",
        "        data=\"./heart.csv\", #we already had the file locally so just put the path directory from src\r\n",
        "        test_train_ratio=0.2,\r\n",
        "        learning_rate=0.25,\r\n",
        "        registered_model_name=registered_model_name,\r\n",
        "    ),\r\n",
        "    code=\"./src/\",  # location of source code\r\n",
        "    command=\"python main.py --data ${{inputs.data}} --test_train_ratio ${{inputs.test_train_ratio}} --learning_rate ${{inputs.learning_rate}} --registered_model_name ${{inputs.registered_model_name}}\",\r\n",
        "    environment=\"aml-scikit-learn@latest\",\r\n",
        "    compute=\"CC00\",\r\n",
        "    experiment_name=\"train_model_heart_default_prediction\",\r\n",
        "    display_name=\"heart_default_prediction\",\r\n",
        ")"
      ],
      "outputs": [],
      "execution_count": 10,
      "metadata": {
        "jupyter": {
          "source_hidden": false,
          "outputs_hidden": false
        },
        "nteract": {
          "transient": {
            "deleting": false
          }
        },
        "gather": {
          "logged": 1681672537069
        }
      }
    },
    {
      "cell_type": "markdown",
      "source": [
        "# Submit job\r\n"
      ],
      "metadata": {
        "nteract": {
          "transient": {
            "deleting": false
          }
        }
      }
    },
    {
      "cell_type": "markdown",
      "source": [
        "Using the initially created workspace hanlder (ml_client) and the above job, we can submit our model training:"
      ],
      "metadata": {
        "nteract": {
          "transient": {
            "deleting": false
          }
        }
      }
    },
    {
      "cell_type": "code",
      "source": [
        "ml_client.create_or_update(job)"
      ],
      "outputs": [
        {
          "output_type": "execute_result",
          "execution_count": 11,
          "data": {
            "text/plain": "Command({'parameters': {}, 'init': False, 'type': 'command', 'status': 'Starting', 'log_files': None, 'name': 'olden_river_5p4yvwnqkr', 'description': None, 'tags': {}, 'properties': {'_azureml.ComputeTargetType': 'amlctrain', 'ContentSnapshotId': '8fbb3d27-5e24-4d2e-a086-e29b6be50a2b'}, 'print_as_yaml': True, 'id': '/subscriptions/eb1308d1-6004-4e62-aebb-ec8032a938d0/resourceGroups/ml/providers/Microsoft.MachineLearningServices/workspaces/ws001/jobs/olden_river_5p4yvwnqkr', 'Resource__source_path': None, 'base_path': '/mnt/batch/tasks/shared/LS_root/mounts/clusters/nguyenviet1/code/Users/nguyenviet', 'creation_context': <azure.ai.ml.entities._system_data.SystemData object at 0x7f55f98eae60>, 'serialize': <msrest.serialization.Serializer object at 0x7f55f992f9d0>, 'allowed_keys': {}, 'key_restriction': False, 'logger': <Logger attr_dict (WARNING)>, 'display_name': 'heart_default_prediction', 'experiment_name': 'train_model_heart_default_prediction', 'compute': 'CC00', 'services': {'Tracking': <azure.ai.ml.entities._job.job_service.JobService object at 0x7f5614e06530>, 'Studio': <azure.ai.ml.entities._job.job_service.JobService object at 0x7f55f98eafe0>}, 'comment': None, 'job_inputs': {'data': './heart.csv', 'test_train_ratio': '0.2', 'learning_rate': '0.25', 'registered_model_name': 'heart_defaults_model'}, 'job_outputs': {'default': {'type': 'uri_folder', 'path': 'azureml://datastores/workspaceartifactstore/ExperimentRun/dcid.olden_river_5p4yvwnqkr', 'mode': 'rw_mount'}}, 'inputs': {'data': <azure.ai.ml.entities._job.pipeline._io.base.NodeInput object at 0x7f55f98eadd0>, 'test_train_ratio': <azure.ai.ml.entities._job.pipeline._io.base.NodeInput object at 0x7f55f992f910>, 'learning_rate': <azure.ai.ml.entities._job.pipeline._io.base.NodeInput object at 0x7f55f992f430>, 'registered_model_name': <azure.ai.ml.entities._job.pipeline._io.base.NodeInput object at 0x7f55f992ee60>}, 'outputs': {'default': <azure.ai.ml.entities._job.pipeline._io.base.NodeOutput object at 0x7f55f992feb0>}, 'component': CommandComponent({'auto_increment_version': True, 'source': 'REMOTE.WORKSPACE.JOB', 'is_anonymous': False, 'name': 'olden_river_5p4yvwnqkr', 'description': None, 'tags': {}, 'properties': {}, 'print_as_yaml': True, 'id': None, 'Resource__source_path': None, 'base_path': PosixPath('.'), 'creation_context': <azure.ai.ml.entities._system_data.SystemData object at 0x7f55f98eae60>, 'serialize': <msrest.serialization.Serializer object at 0x7f55f98eb220>, 'command': 'python main.py --data ${{inputs.data}} --test_train_ratio ${{inputs.test_train_ratio}} --learning_rate ${{inputs.learning_rate}} --registered_model_name ${{inputs.registered_model_name}}', 'code': '/subscriptions/eb1308d1-6004-4e62-aebb-ec8032a938d0/resourceGroups/ml/providers/Microsoft.MachineLearningServices/workspaces/ws001/codes/e380d4cd-9df2-42a7-94c1-3062ca890698/versions/1', 'environment_variables': {}, 'environment': '/subscriptions/eb1308d1-6004-4e62-aebb-ec8032a938d0/resourceGroups/ml/providers/Microsoft.MachineLearningServices/workspaces/ws001/environments/aml-scikit-learn/versions/6', 'distribution': None, 'resources': None, 'queue_settings': None, 'version': None, 'latest_version': None, 'schema': None, 'type': 'command', 'display_name': 'heart_default_prediction', 'is_deterministic': True, 'inputs': {'data': {'type': 'string', 'default': './heart.csv'}, 'test_train_ratio': {'type': 'string', 'default': '0.2'}, 'learning_rate': {'type': 'string', 'default': '0.25'}, 'registered_model_name': {'type': 'string', 'default': 'heart_defaults_model'}}, 'outputs': {'default': {'type': 'uri_folder', 'path': 'azureml://datastores/workspaceartifactstore/ExperimentRun/dcid.olden_river_5p4yvwnqkr', 'mode': 'rw_mount'}}, 'yaml_str': None, 'other_parameter': {'status': 'Starting', 'parameters': {}}}), 'referenced_control_flow_node_instance_id': None, 'kwargs': {'services': {'Tracking': <azure.ai.ml.entities._job.job_service.JobService object at 0x7f5614e06530>, 'Studio': <azure.ai.ml.entities._job.job_service.JobService object at 0x7f55f98eafe0>}, 'status': 'Starting', 'creation_context': <azure.ai.ml.entities._system_data.SystemData object at 0x7f55f98eae60>}, 'instance_id': 'd766206a-6844-4247-b19d-005d81ce659d', 'source': 'BUILDER', 'validate_required_input_not_provided': True, 'limits': None, 'identity': None, 'distribution': None, 'environment_variables': {}, 'environment': 'aml-scikit-learn:6', 'resources': {'instance_count': 1, 'shm_size': '2g'}, 'queue_settings': None, 'swept': False})",
            "text/html": "<table style=\"width:100%\"><tr><th>Experiment</th><th>Name</th><th>Type</th><th>Status</th><th>Details Page</th></tr><tr><td>train_model_heart_default_prediction</td><td>olden_river_5p4yvwnqkr</td><td>command</td><td>Starting</td><td><a href=\"https://ml.azure.com/runs/olden_river_5p4yvwnqkr?wsid=/subscriptions/eb1308d1-6004-4e62-aebb-ec8032a938d0/resourcegroups/ml/workspaces/ws001&amp;tid=d02378ec-1688-46d5-8540-1c28b5f470f6\" target=\"_blank\" rel=\"noopener\">Link to Azure Machine Learning studio</a></td></tr></table>"
          },
          "metadata": {}
        }
      ],
      "execution_count": 11,
      "metadata": {
        "jupyter": {
          "source_hidden": false,
          "outputs_hidden": false
        },
        "nteract": {
          "transient": {
            "deleting": false
          }
        },
        "gather": {
          "logged": 1681672546366
        }
      }
    },
    {
      "cell_type": "markdown",
      "source": [
        "```\r\n",
        "!!! MAKE SURE THE ABOVE JOB IS COMPLETED BEFORE PROCCEEDING TO NEXT STEP\r\n",
        "```"
      ],
      "metadata": {
        "nteract": {
          "transient": {
            "deleting": false
          }
        }
      }
    },
    {
      "cell_type": "markdown",
      "source": [
        "# Create an online endpoint\r\n",
        "\r\n",
        "Now that you have a registered model and an inference script, it's time to create your online endpoint. The endpoint name needs to be unique in the entire Azure region."
      ],
      "metadata": {
        "nteract": {
          "transient": {
            "deleting": false
          }
        }
      }
    },
    {
      "cell_type": "code",
      "source": [
        "## Create online endpoint\r\n",
        "\r\n",
        "import uuid\r\n",
        "\r\n",
        "# Making the endpoint name unique\r\n",
        "online_endpoint_name = \"heart-endpoint-\" + str(uuid.uuid4())[:8]"
      ],
      "outputs": [],
      "execution_count": 12,
      "metadata": {
        "jupyter": {
          "source_hidden": false,
          "outputs_hidden": false
        },
        "nteract": {
          "transient": {
            "deleting": false
          }
        },
        "gather": {
          "logged": 1681672916313
        }
      }
    },
    {
      "cell_type": "code",
      "source": [
        "from azure.ai.ml.entities import (\r\n",
        "    ManagedOnlineEndpoint,\r\n",
        "    ManagedOnlineDeployment,\r\n",
        "    Model,\r\n",
        "    Environment,\r\n",
        "    CodeConfiguration,\r\n",
        ")\r\n",
        "\r\n",
        "# Initiate new online endpoint\r\n",
        "endpoint = ManagedOnlineEndpoint(\r\n",
        "    name=online_endpoint_name,\r\n",
        "    description=\"this is an online endpoint\",\r\n",
        "    auth_mode=\"key\",\r\n",
        "    tags={\r\n",
        "        \"training_dataset\": \"heart_defaults\",\r\n",
        "        \"model_type\": \"sklearn.DecisionTreeClassifier\",\r\n",
        "    },\r\n",
        ")\r\n",
        "\r\n",
        "endpoint = ml_client.online_endpoints.begin_create_or_update(endpoint).result()\r\n",
        "\r\n",
        "print(f\"Endpoint {endpoint.name} provisioning state: {endpoint.provisioning_state}\")"
      ],
      "outputs": [
        {
          "output_type": "stream",
          "name": "stdout",
          "text": "Endpoint heart-endpoint-113384a0 provisioning state: Succeeded\n"
        }
      ],
      "execution_count": 13,
      "metadata": {
        "jupyter": {
          "source_hidden": false,
          "outputs_hidden": false
        },
        "nteract": {
          "transient": {
            "deleting": false
          }
        },
        "gather": {
          "logged": 1681673047693
        }
      }
    },
    {
      "cell_type": "markdown",
      "source": [
        "```\r\n",
        "!!! THE ENDPOINT CREATION MAY TAKE 6-8 MINUTES\r\n",
        "```"
      ],
      "metadata": {
        "nteract": {
          "transient": {
            "deleting": false
          }
        }
      }
    },
    {
      "cell_type": "code",
      "source": [
        "## Verify the endpoint created\r\n",
        "endpoint = ml_client.online_endpoints.get(name=online_endpoint_name)\r\n",
        "endpoint_name = endpoint.name\r\n",
        "print(\r\n",
        "    f'Endpoint \"{endpoint.name}\" with provisioning state \"{endpoint.provisioning_state}\" is retrieved'\r\n",
        ")\r\n",
        "print(endpoint)"
      ],
      "outputs": [
        {
          "output_type": "stream",
          "name": "stdout",
          "text": "Endpoint \"heart-endpoint-113384a0\" with provisioning state \"Succeeded\" is retrieved\nauth_mode: key\ndescription: this is an online endpoint\nid: /subscriptions/eb1308d1-6004-4e62-aebb-ec8032a938d0/resourceGroups/ml/providers/Microsoft.MachineLearningServices/workspaces/ws001/onlineEndpoints/heart-endpoint-113384a0\nidentity:\n  principal_id: 389bc63f-ec95-43d0-b324-c1765dd213e5\n  tenant_id: d02378ec-1688-46d5-8540-1c28b5f470f6\n  type: system_assigned\nkind: Managed\nlocation: eastus\nmirror_traffic: {}\nname: heart-endpoint-113384a0\nopenapi_uri: https://heart-endpoint-113384a0.eastus.inference.ml.azure.com/swagger.json\nproperties:\n  AzureAsyncOperationUri: https://management.azure.com/subscriptions/eb1308d1-6004-4e62-aebb-ec8032a938d0/providers/Microsoft.MachineLearningServices/locations/eastus/mfeOperationsStatus/oe:241969ee-57ec-4618-9236-f55679dd8666:73723514-9d5f-44f0-ad15-4d35d54b4a2e?api-version=2022-02-01-preview\n  azureml.onlineendpointid: /subscriptions/eb1308d1-6004-4e62-aebb-ec8032a938d0/resourcegroups/ml/providers/microsoft.machinelearningservices/workspaces/ws001/onlineendpoints/heart-endpoint-113384a0\nprovisioning_state: Succeeded\npublic_network_access: enabled\nscoring_uri: https://heart-endpoint-113384a0.eastus.inference.ml.azure.com/score\ntags:\n  model_type: sklearn.DecisionTreeClassifier\n  training_dataset: heart_defaults\ntraffic: {}\n\n"
        }
      ],
      "execution_count": 14,
      "metadata": {
        "jupyter": {
          "source_hidden": false,
          "outputs_hidden": false
        },
        "nteract": {
          "transient": {
            "deleting": false
          }
        },
        "gather": {
          "logged": 1681673418954
        }
      }
    },
    {
      "cell_type": "markdown",
      "source": [
        "# Deploy model to the created endpoint"
      ],
      "metadata": {
        "nteract": {
          "transient": {
            "deleting": false
          }
        }
      }
    },
    {
      "cell_type": "code",
      "source": [
        "# Check latest version of the model\r\n",
        "latest_model_version = max(\r\n",
        "    [int(m.version) for m in ml_client.models.list(name=registered_model_name)]\r\n",
        ")\r\n",
        "\r\n",
        "# Pick latest model version\r\n",
        "model = ml_client.models.get(name=registered_model_name, version=latest_model_version)\r\n",
        "\r\n",
        "# online deployment.\r\n",
        "blue_deployment = ManagedOnlineDeployment(\r\n",
        "    name=\"blue\",\r\n",
        "    endpoint_name=online_endpoint_name,\r\n",
        "    model=model,\r\n",
        "    instance_type=\"STANDARD_F4S_V2\",\r\n",
        "    instance_count=1,\r\n",
        ")\r\n",
        "\r\n",
        "blue_deployment_results = ml_client.online_deployments.begin_create_or_update(blue_deployment).result()\r\n",
        "\r\n",
        "print(\r\n",
        "    f\"Deployment {blue_deployment_results.name} provisioning state: {blue_deployment_results.provisioning_state}\"\r\n",
        ")"
      ],
      "outputs": [],
      "execution_count": null,
      "metadata": {
        "jupyter": {
          "source_hidden": false,
          "outputs_hidden": false
        },
        "nteract": {
          "transient": {
            "deleting": false
          }
        },
        "gather": {
          "logged": 1681674007431
        }
      }
    },
    {
      "cell_type": "markdown",
      "source": [
        "# Testing model using SDK"
      ],
      "metadata": {
        "nteract": {
          "transient": {
            "deleting": false
          }
        }
      }
    },
    {
      "cell_type": "code",
      "source": [
        "#creating samples\r\n",
        "samples = (\r\n",
        "    pd.read_csv(\"./src/heart.csv\")\r\n",
        "    .sample(n=20)\r\n",
        "    .drop(columns=[\"target\"])\r\n",
        "    .reset_index(drop=True)\r\n",
        ")\r\n",
        "print(samples)"
      ],
      "outputs": [
        {
          "output_type": "stream",
          "name": "stdout",
          "text": "    age  sex  cp  trestbps  chol  fbs  restecg  thalach  exang  oldpeak   \n0    38    1   3       120   231    0        1      182      1      3.8  \\\n1    57    0   0       140   241    0        1      123      1      0.2   \n2    50    0   2       120   219    0        1      158      0      1.6   \n3    54    0   1       132   288    1        0      159      1      0.0   \n4    41    0   1       105   198    0        1      168      0      0.0   \n5    46    0   0       138   243    0        0      152      1      0.0   \n6    62    0   0       140   268    0        0      160      0      3.6   \n7    47    1   0       110   275    0        0      118      1      1.0   \n8    47    1   2       130   253    0        1      179      0      0.0   \n9    52    1   2       172   199    1        1      162      0      0.5   \n10   63    1   3       145   233    1        0      150      0      2.3   \n11   59    1   0       170   326    0        0      140      1      3.4   \n12   42    1   2       120   240    1        1      194      0      0.8   \n13   56    1   1       120   236    0        1      178      0      0.8   \n14   51    1   2        94   227    0        1      154      1      0.0   \n15   56    1   0       130   283    1        0      103      1      1.6   \n16   66    1   0       160   228    0        0      138      0      2.3   \n17   63    1   3       145   233    1        0      150      0      2.3   \n18   66    0   0       178   228    1        1      165      1      1.0   \n19   62    0   0       138   294    1        1      106      0      1.9   \n\n    slope  ca  thal  \n0       1   0     3  \n1       1   0     3  \n2       1   0     2  \n3       2   1     2  \n4       2   1     2  \n5       1   0     2  \n6       0   2     2  \n7       1   1     2  \n8       2   0     2  \n9       2   0     3  \n10      0   0     1  \n11      0   0     3  \n12      0   0     3  \n13      2   0     2  \n14      2   1     3  \n15      0   0     3  \n16      2   0     1  \n17      0   0     1  \n18      1   2     3  \n19      1   3     2  \n"
        }
      ],
      "execution_count": 26,
      "metadata": {
        "jupyter": {
          "source_hidden": false,
          "outputs_hidden": false
        },
        "nteract": {
          "transient": {
            "deleting": false
          }
        },
        "gather": {
          "logged": 1681674393340
        }
      }
    },
    {
      "cell_type": "code",
      "source": [
        "import mlflow\r\n",
        "from mlflow.deployments import get_deploy_client\r\n",
        "\r\n",
        "deployment_client = get_deploy_client(mlflow.get_tracking_uri())\r\n",
        "\r\n",
        "deployment_client.predict(endpoint=\"heart-endpoint-81eb9d0c\", df=samples, deployment_name=\"blue\")"
      ],
      "outputs": [
        {
          "output_type": "execute_result",
          "execution_count": 27,
          "data": {
            "text/plain": "    0\n0   1\n1   0\n2   1\n3   1\n4   1\n5   1\n6   0\n7   0\n8   1\n9   1\n10  0\n11  0\n12  1\n13  1\n14  1\n15  0\n16  1\n17  0\n18  0\n19  0",
            "text/html": "<div>\n<style scoped>\n    .dataframe tbody tr th:only-of-type {\n        vertical-align: middle;\n    }\n\n    .dataframe tbody tr th {\n        vertical-align: top;\n    }\n\n    .dataframe thead th {\n        text-align: right;\n    }\n</style>\n<table border=\"1\" class=\"dataframe\">\n  <thead>\n    <tr style=\"text-align: right;\">\n      <th></th>\n      <th>0</th>\n    </tr>\n  </thead>\n  <tbody>\n    <tr>\n      <th>0</th>\n      <td>1</td>\n    </tr>\n    <tr>\n      <th>1</th>\n      <td>0</td>\n    </tr>\n    <tr>\n      <th>2</th>\n      <td>1</td>\n    </tr>\n    <tr>\n      <th>3</th>\n      <td>1</td>\n    </tr>\n    <tr>\n      <th>4</th>\n      <td>1</td>\n    </tr>\n    <tr>\n      <th>5</th>\n      <td>1</td>\n    </tr>\n    <tr>\n      <th>6</th>\n      <td>0</td>\n    </tr>\n    <tr>\n      <th>7</th>\n      <td>0</td>\n    </tr>\n    <tr>\n      <th>8</th>\n      <td>1</td>\n    </tr>\n    <tr>\n      <th>9</th>\n      <td>1</td>\n    </tr>\n    <tr>\n      <th>10</th>\n      <td>0</td>\n    </tr>\n    <tr>\n      <th>11</th>\n      <td>0</td>\n    </tr>\n    <tr>\n      <th>12</th>\n      <td>1</td>\n    </tr>\n    <tr>\n      <th>13</th>\n      <td>1</td>\n    </tr>\n    <tr>\n      <th>14</th>\n      <td>1</td>\n    </tr>\n    <tr>\n      <th>15</th>\n      <td>0</td>\n    </tr>\n    <tr>\n      <th>16</th>\n      <td>1</td>\n    </tr>\n    <tr>\n      <th>17</th>\n      <td>0</td>\n    </tr>\n    <tr>\n      <th>18</th>\n      <td>0</td>\n    </tr>\n    <tr>\n      <th>19</th>\n      <td>0</td>\n    </tr>\n  </tbody>\n</table>\n</div>"
          },
          "metadata": {}
        }
      ],
      "execution_count": 27,
      "metadata": {
        "jupyter": {
          "source_hidden": false,
          "outputs_hidden": false
        },
        "nteract": {
          "transient": {
            "deleting": false
          }
        },
        "gather": {
          "logged": 1681674399420
        }
      }
    },
    {
      "cell_type": "markdown",
      "source": [
        "# Clean up resources\r\n",
        "If you're not going to use the endpoint, delete it to stop using the resource. Make sure no other deployments are using an endpoint before you delete it."
      ],
      "metadata": {
        "nteract": {
          "transient": {
            "deleting": false
          }
        }
      }
    },
    {
      "cell_type": "code",
      "source": [
        "ml_client.online_endpoints.begin_delete(name=online_endpoint_name)"
      ],
      "outputs": [],
      "execution_count": null,
      "metadata": {
        "jupyter": {
          "source_hidden": false,
          "outputs_hidden": false
        },
        "nteract": {
          "transient": {
            "deleting": false
          }
        }
      }
    }
  ],
  "metadata": {
    "kernelspec": {
      "name": "python310-sdkv2",
      "language": "python",
      "display_name": "Python 3.10 - SDK v2"
    },
    "language_info": {
      "name": "python",
      "version": "3.10.10",
      "mimetype": "text/x-python",
      "codemirror_mode": {
        "name": "ipython",
        "version": 3
      },
      "pygments_lexer": "ipython3",
      "nbconvert_exporter": "python",
      "file_extension": ".py"
    },
    "microsoft": {
      "ms_spell_check": {
        "ms_spell_check_language": "en"
      },
      "host": {
        "AzureML": {
          "notebookHasBeenCompleted": true
        }
      }
    },
    "kernel_info": {
      "name": "python310-sdkv2"
    },
    "nteract": {
      "version": "nteract-front-end@1.0.0"
    }
  },
  "nbformat": 4,
  "nbformat_minor": 2
}